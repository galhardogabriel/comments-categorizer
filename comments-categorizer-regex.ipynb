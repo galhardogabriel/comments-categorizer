{
 "cells": [
  {
   "cell_type": "code",
   "execution_count": 1,
   "metadata": {},
   "outputs": [
    {
     "data": {
      "text/html": [
       "<div>\n",
       "<style scoped>\n",
       "    .dataframe tbody tr th:only-of-type {\n",
       "        vertical-align: middle;\n",
       "    }\n",
       "\n",
       "    .dataframe tbody tr th {\n",
       "        vertical-align: top;\n",
       "    }\n",
       "\n",
       "    .dataframe thead th {\n",
       "        text-align: right;\n",
       "    }\n",
       "</style>\n",
       "<table border=\"1\" class=\"dataframe\">\n",
       "  <thead>\n",
       "    <tr style=\"text-align: right;\">\n",
       "      <th></th>\n",
       "      <th>Unnamed: 0</th>\n",
       "      <th>Comments</th>\n",
       "      <th>Compound</th>\n",
       "      <th>Sentiment</th>\n",
       "    </tr>\n",
       "  </thead>\n",
       "  <tbody>\n",
       "    <tr>\n",
       "      <th>0</th>\n",
       "      <td>0</td>\n",
       "      <td>I'm Brazilian and what makes me more sad is th...</td>\n",
       "      <td>-0.1077</td>\n",
       "      <td>Negative</td>\n",
       "    </tr>\n",
       "    <tr>\n",
       "      <th>1</th>\n",
       "      <td>1</td>\n",
       "      <td>The man crying broke my heart 💔</td>\n",
       "      <td>-0.7096</td>\n",
       "      <td>Negative</td>\n",
       "    </tr>\n",
       "    <tr>\n",
       "      <th>2</th>\n",
       "      <td>2</td>\n",
       "      <td>The reporter is at least 8 months pregnant and...</td>\n",
       "      <td>0.4926</td>\n",
       "      <td>Positive</td>\n",
       "    </tr>\n",
       "    <tr>\n",
       "      <th>3</th>\n",
       "      <td>3</td>\n",
       "      <td>Then we have people here in London protesting ...</td>\n",
       "      <td>-0.7906</td>\n",
       "      <td>Negative</td>\n",
       "    </tr>\n",
       "    <tr>\n",
       "      <th>4</th>\n",
       "      <td>4</td>\n",
       "      <td>My goodness, I’m so sorry for the Brazilian pe...</td>\n",
       "      <td>0.5434</td>\n",
       "      <td>Positive</td>\n",
       "    </tr>\n",
       "  </tbody>\n",
       "</table>\n",
       "</div>"
      ],
      "text/plain": [
       "   Unnamed: 0                                           Comments  Compound  \\\n",
       "0           0  I'm Brazilian and what makes me more sad is th...   -0.1077   \n",
       "1           1                    The man crying broke my heart 💔   -0.7096   \n",
       "2           2  The reporter is at least 8 months pregnant and...    0.4926   \n",
       "3           3  Then we have people here in London protesting ...   -0.7906   \n",
       "4           4  My goodness, I’m so sorry for the Brazilian pe...    0.5434   \n",
       "\n",
       "  Sentiment  \n",
       "0  Negative  \n",
       "1  Negative  \n",
       "2  Positive  \n",
       "3  Negative  \n",
       "4  Positive  "
      ]
     },
     "execution_count": 1,
     "metadata": {},
     "output_type": "execute_result"
    }
   ],
   "source": [
    "import re\n",
    "import pandas as pd\n",
    "import numpy as np\n",
    "df=pd.read_excel(\"yt_comments.xlsx\")\n",
    "#to make all comments strings\n",
    "df['Comments']=df['Comments'].apply(lambda x: str(x))\n",
    "df.head()"
   ]
  },
  {
   "cell_type": "markdown",
   "metadata": {},
   "source": [
    "# REGEX TABLE \n",
    "\n",
    "<table ><tr><th>Character</th><th>Description</th><th>Example Pattern Code</th><th >Exammple Match</th></tr>\n",
    "\n",
    "<tr ><td><span >\\d</span></td><td>A digit</td><td>file_\\d\\d</td><td>file_25</td></tr>\n",
    "\n",
    "<tr ><td><span >\\w</span></td><td>Alphanumeric</td><td>\\w-\\w\\w\\w</td><td>A-b_1</td></tr>\n",
    "\n",
    "\n",
    "\n",
    "<tr ><td><span >\\s</span></td><td>White space</td><td>a\\sb\\sc</td><td>a b c</td></tr>\n",
    "\n",
    "\n",
    "\n",
    "<tr ><td><span >\\D</span></td><td>A non digit</td><td>\\D\\D\\D</td><td>ABC</td></tr>\n",
    "\n",
    "<tr ><td><span >\\W</span></td><td>Non-alphanumeric</td><td>\\W\\W\\W\\W\\W</td><td>*-+=)</td></tr>\n",
    "\n",
    "<tr ><td><span >\\S</span></td><td>Non-whitespace</td><td>\\S\\S\\S\\S</td><td>Yoyo</td></tr></table>\n",
    "\n",
    "<table ><tr><th>Character</th><th>Description</th><th>Example Pattern Code</th><th >Exammple Match</th></tr>\n",
    "\n",
    "<tr ><td><span >+</span></td><td>Occurs one or more times</td><td>\tVersion \\w-\\w+</td><td>Version A-b1_1</td></tr>\n",
    "\n",
    "<tr ><td><span >{3}</span></td><td>Occurs exactly 3 times</td><td>\\D{3}</td><td>abc</td></tr>\n",
    "\n",
    "\n",
    "\n",
    "<tr ><td><span >{2,4}</span></td><td>Occurs 2 to 4 times</td><td>\\d{2,4}</td><td>123</td></tr>\n",
    "\n",
    "\n",
    "\n",
    "<tr ><td><span >{3,}</span></td><td>Occurs 3 or more</td><td>\\w{3,}</td><td>anycharacters</td></tr>\n",
    "\n",
    "<tr ><td><span >\\*</span></td><td>Occurs zero or more times</td><td>A\\*B\\*C*</td><td>AAACC</td></tr>\n",
    "\n",
    "<tr ><td><span >?</span></td><td>Once or none</td><td>plurals?</td><td>plural</td></tr></table>\n",
    "\n",
    "Use the pipe operator to have an **or** statment. For example\n",
    "\n",
    "re.search(r\"man|woman\",\"This man was here.\")"
   ]
  },
  {
   "cell_type": "code",
   "execution_count": 3,
   "metadata": {},
   "outputs": [],
   "source": [
    "#PUT THE KEYWORDS PATTERNS HERE\n",
    "listkeywords1=[r'cov\\w{2,4}',r'\\d{3,8}',r'.resident']\n",
    "\n",
    "#on this case, I want to see the comments talking about covid and/or numbers and/or the president\n",
    "#add one list of keywords for every extra element you put on the dictionary below\n",
    "#for every item in this dict, one column will be created categorizing classifying with the keywords you created\n",
    "dict_topics={'Results1':listkeywords1}\n",
    "#here below it creates the empty columns to be populated with categorized data\n",
    "for i in dict_topics.keys():\n",
    "    df[i]=''"
   ]
  },
  {
   "cell_type": "code",
   "execution_count": 4,
   "metadata": {},
   "outputs": [],
   "source": [
    "def categorize():\n",
    "    global df\n",
    "\n",
    "    soma=[]\n",
    "    \n",
    "    for i in range(len(df)):\n",
    "        \n",
    "        for jota1 in dict_topics.keys():\n",
    "            a1=[]\n",
    "            \n",
    "            for jota2 in dict_topics[jota1]:\n",
    "                \n",
    "                z1=re.findall(jota2,df['Comments'].values[i])\n",
    "                if len(z1)>0:\n",
    "                    a1.append(z1)\n",
    "                \n",
    "            if len(a1)>0:\n",
    "    #             print (f'{df[\"Country\"].values[i]}  {a1}')\n",
    "                print (f'{a1}')\n",
    "\n",
    "                soma.append(a1)\n",
    "                if type(df[jota1].values[i])==list:\n",
    "                    df[jota1].values[i].append(a1)\n",
    "                else:\n",
    "                    df[jota1].values[i]=a1\n",
    "        else:\n",
    "            pass\n",
    "    else:\n",
    "        print (f'\\n \\033[91m Total mentions: {len(soma)} \\033[0m')"
   ]
  },
  {
   "cell_type": "code",
   "execution_count": 5,
   "metadata": {},
   "outputs": [],
   "source": [
    "# re.findall(r'?resident',df['Comments'].values[3])"
   ]
  },
  {
   "cell_type": "code",
   "execution_count": 6,
   "metadata": {
    "scrolled": true
   },
   "outputs": [
    {
     "name": "stdout",
     "output_type": "stream",
     "text": [
      "[['president']]\n",
      "[['covid']]\n",
      "[['president']]\n",
      "[['president']]\n",
      "[['covid19']]\n",
      "[['President']]\n",
      "[['president']]\n",
      "[['covid']]\n",
      "[['president']]\n",
      "\n",
      " \u001b[91m Total mentions: 9 \u001b[0m\n"
     ]
    }
   ],
   "source": [
    "categorize()"
   ]
  },
  {
   "cell_type": "code",
   "execution_count": 28,
   "metadata": {
    "scrolled": true
   },
   "outputs": [],
   "source": [
    "df.to_excel('categorized_comments.xlsx')"
   ]
  },
  {
   "cell_type": "code",
   "execution_count": null,
   "metadata": {},
   "outputs": [],
   "source": []
  }
 ],
 "metadata": {
  "kernelspec": {
   "display_name": "Python 3",
   "language": "python",
   "name": "python3"
  },
  "language_info": {
   "codemirror_mode": {
    "name": "ipython",
    "version": 3
   },
   "file_extension": ".py",
   "mimetype": "text/x-python",
   "name": "python",
   "nbconvert_exporter": "python",
   "pygments_lexer": "ipython3",
   "version": "3.7.6"
  }
 },
 "nbformat": 4,
 "nbformat_minor": 4
}
